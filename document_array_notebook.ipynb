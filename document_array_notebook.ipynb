{
 "cells": [
  {
   "cell_type": "code",
   "execution_count": 1,
   "metadata": {},
   "outputs": [
    {
     "data": {
      "text/html": [
       "<pre style=\"white-space:pre;overflow-x:auto;line-height:normal;font-family:Menlo,'DejaVu Sans Mono',consolas,'Courier New',monospace\"><span style=\"font-style: italic\">                             Documents Summary                              </span>\n",
       "                                                                            \n",
       "  Length                 64                                                 \n",
       "  Homogenous Documents   True                                               \n",
       "  Common Attributes      ('id', 'tensor', 'mime_type', 'uri', 'embedding')  \n",
       "                                                                            \n",
       "<span style=\"font-style: italic\">                      Attributes Summary                       </span>\n",
       "                                                               \n",
       " <span style=\"font-weight: bold\"> Attribute </span> <span style=\"font-weight: bold\"> Data type    </span> <span style=\"font-weight: bold\"> #Unique values </span> <span style=\"font-weight: bold\"> Has empty value </span> \n",
       " ───────────────────────────────────────────────────────────── \n",
       "  embedding   ('Tensor',)    64               False            \n",
       "  id          ('str',)       64               False            \n",
       "  mime_type   ('str',)       1                False            \n",
       "  tensor      ('str',)       64               False            \n",
       "  uri         ('ndarray',)   64               False            \n",
       "                                                               \n",
       "<span style=\"font-style: italic\">          Storage Summary          </span>\n",
       "                                   \n",
       "  Class     DocumentArrayInMemory  \n",
       "  Backend   In Memory              \n",
       "                                   \n",
       "</pre>\n"
      ],
      "text/plain": [
       "\u001b[3m                             Documents Summary                              \u001b[0m\n",
       "                                                                            \n",
       "  Length                 64                                                 \n",
       "  Homogenous Documents   True                                               \n",
       "  Common Attributes      ('id', 'tensor', 'mime_type', 'uri', 'embedding')  \n",
       "                                                                            \n",
       "\u001b[3m                      Attributes Summary                       \u001b[0m\n",
       "                                                               \n",
       " \u001b[1m \u001b[0m\u001b[1mAttribute\u001b[0m\u001b[1m \u001b[0m \u001b[1m \u001b[0m\u001b[1mData type   \u001b[0m\u001b[1m \u001b[0m \u001b[1m \u001b[0m\u001b[1m#Unique values\u001b[0m\u001b[1m \u001b[0m \u001b[1m \u001b[0m\u001b[1mHas empty value\u001b[0m\u001b[1m \u001b[0m \n",
       " ───────────────────────────────────────────────────────────── \n",
       "  embedding   ('Tensor',)    64               False            \n",
       "  id          ('str',)       64               False            \n",
       "  mime_type   ('str',)       1                False            \n",
       "  tensor      ('str',)       64               False            \n",
       "  uri         ('ndarray',)   64               False            \n",
       "                                                               \n",
       "\u001b[3m          Storage Summary          \u001b[0m\n",
       "                                   \n",
       "  Class     DocumentArrayInMemory  \n",
       "  Backend   In Memory              \n",
       "                                   \n"
      ]
     },
     "metadata": {},
     "output_type": "display_data"
    }
   ],
   "source": [
    "from docarray import DocumentArray, Document\n",
    "import torchvision\n",
    "\n",
    "# Convert to tensor, normalize so they're all similar enough\n",
    "def preproc(d: Document):\n",
    "    return (d.load_uri_to_image_tensor()  # load\n",
    "             .set_image_tensor_shape((80, 60))  # ensure all images right size (dataset image size _should_ be (80, 60))\n",
    "             .set_image_tensor_normalization()  # normalize color \n",
    "             .set_image_tensor_channel_axis(-1, 0))  # switch color axis for the PyTorch model later\n",
    "\n",
    "indexing_documents = DocumentArray.from_files(\"./aviation_imgs/*.jpg\", size=10000)\n",
    "indexing_documents.apply(preproc)\n",
    "model = torchvision.models.resnet50(pretrained=True)  # load ResNet50\n",
    "\n",
    "indexing_documents.embed(model, device=\"cpu\")"
   ]
  }
 ],
 "metadata": {
  "kernelspec": {
   "display_name": "Python 3",
   "language": "python",
   "name": "python3"
  },
  "language_info": {
   "codemirror_mode": {
    "name": "ipython",
    "version": 3
   },
   "file_extension": ".py",
   "mimetype": "text/x-python",
   "name": "python",
   "nbconvert_exporter": "python",
   "pygments_lexer": "ipython3",
   "version": "3.8.5"
  }
 },
 "nbformat": 4,
 "nbformat_minor": 4
}
